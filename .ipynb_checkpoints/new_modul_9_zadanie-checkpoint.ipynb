{
 "cells": [
  {
   "cell_type": "code",
   "execution_count": 1,
   "id": "57b1af47-f2c9-4c84-a646-77b0081e1644",
   "metadata": {},
   "outputs": [],
   "source": [
    "import os #\n",
    "import boto3 #\n",
    "import mlflow\n",
    "#import s3fs\n",
    "import pandas as pd\n",
    "from io import BytesIO\n",
    "from dotenv import load_dotenv #\n",
    "#import matplotlib.pyplot as plt\n",
    "from pycaret.regression import compare_models, plot_model, save_model, setup"
   ]
  },
  {
   "cell_type": "code",
   "execution_count": 2,
   "id": "7b5ef0ac-fe7f-49c3-aaab-50f9091c7e6d",
   "metadata": {},
   "outputs": [
    {
     "data": {
      "text/plain": [
       "True"
      ]
     },
     "execution_count": 2,
     "metadata": {},
     "output_type": "execute_result"
    }
   ],
   "source": [
    "load_dotenv()"
   ]
  },
  {
   "cell_type": "markdown",
   "id": "c518b04c-1607-4e1e-a7d6-a4c9b86b8a33",
   "metadata": {},
   "source": [
    "## Digital Ocean Spaces"
   ]
  },
  {
   "cell_type": "code",
   "execution_count": 3,
   "id": "53d95c44-2d27-4cd9-9852-fca8dd7f5440",
   "metadata": {},
   "outputs": [],
   "source": [
    "s3 = boto3.client(\"s3\")"
   ]
  },
  {
   "cell_type": "code",
   "execution_count": 4,
   "id": "671fab3f-224e-4556-b577-249ae8d2d1f5",
   "metadata": {},
   "outputs": [],
   "source": [
    "BUCKET_NAME=\"kursjustyna\""
   ]
  },
  {
   "cell_type": "code",
   "execution_count": 5,
   "id": "cbd38067-f0d4-44ac-bab2-eefb5ac53bc8",
   "metadata": {},
   "outputs": [],
   "source": [
    "# wysyłam pliki do Cloud Storage\n",
    "folder_path = \"C:\\\\Users\\\\jmkko\\\\OneDrive\\\\Pulpit\\\\od_zera_do_ai\\\\modul_9\\\\41_zadanie\\\\dane\"\n",
    "\n",
    "# Looping through the files in the folder and uploading them to the S3 bucket\n",
    "for file_name in os.listdir(folder_path):\n",
    "    file_path = os.path.join(folder_path, file_name)\n",
    "    \n",
    "    # Uploading file to the S3 bucket\n",
    "    with open(file_path, \"rb\") as data:\n",
    "        s3.upload_fileobj(data, BUCKET_NAME, file_name)"
   ]
  },
  {
   "cell_type": "code",
   "execution_count": 8,
   "id": "8ab96b78-b795-4325-a9e6-e5a9164e5f69",
   "metadata": {},
   "outputs": [
    {
     "data": {
      "text/html": [
       "<div>\n",
       "<style scoped>\n",
       "    .dataframe tbody tr th:only-of-type {\n",
       "        vertical-align: middle;\n",
       "    }\n",
       "\n",
       "    .dataframe tbody tr th {\n",
       "        vertical-align: top;\n",
       "    }\n",
       "\n",
       "    .dataframe thead th {\n",
       "        text-align: right;\n",
       "    }\n",
       "</style>\n",
       "<table border=\"1\" class=\"dataframe\">\n",
       "  <thead>\n",
       "    <tr style=\"text-align: right;\">\n",
       "      <th></th>\n",
       "      <th>Miejsce</th>\n",
       "      <th>Numer startowy</th>\n",
       "      <th>Imię</th>\n",
       "      <th>Nazwisko</th>\n",
       "      <th>Miasto</th>\n",
       "      <th>Kraj</th>\n",
       "      <th>Drużyna</th>\n",
       "      <th>Płeć</th>\n",
       "      <th>Płeć Miejsce</th>\n",
       "      <th>Kategoria wiekowa</th>\n",
       "      <th>...</th>\n",
       "      <th>10 km Tempo</th>\n",
       "      <th>15 km Czas</th>\n",
       "      <th>15 km Miejsce Open</th>\n",
       "      <th>15 km Tempo</th>\n",
       "      <th>20 km Czas</th>\n",
       "      <th>20 km Miejsce Open</th>\n",
       "      <th>20 km Tempo</th>\n",
       "      <th>Tempo Stabilność</th>\n",
       "      <th>Czas</th>\n",
       "      <th>Tempo</th>\n",
       "    </tr>\n",
       "  </thead>\n",
       "  <tbody>\n",
       "    <tr>\n",
       "      <th>0</th>\n",
       "      <td>1.0</td>\n",
       "      <td>1787</td>\n",
       "      <td>TOMASZ</td>\n",
       "      <td>GRYCKO</td>\n",
       "      <td>NaN</td>\n",
       "      <td>POL</td>\n",
       "      <td>UKS BLIZA WŁADYSŁAWOWO</td>\n",
       "      <td>M</td>\n",
       "      <td>1.0</td>\n",
       "      <td>M30</td>\n",
       "      <td>...</td>\n",
       "      <td>2.926667</td>\n",
       "      <td>00:44:47</td>\n",
       "      <td>1.0</td>\n",
       "      <td>3.106667</td>\n",
       "      <td>01:01:43</td>\n",
       "      <td>1.0</td>\n",
       "      <td>3.386667</td>\n",
       "      <td>0.031400</td>\n",
       "      <td>01:04:59</td>\n",
       "      <td>3.080509</td>\n",
       "    </tr>\n",
       "    <tr>\n",
       "      <th>1</th>\n",
       "      <td>2.0</td>\n",
       "      <td>3</td>\n",
       "      <td>ARKADIUSZ</td>\n",
       "      <td>GARDZIELEWSKI</td>\n",
       "      <td>WROCŁAW</td>\n",
       "      <td>POL</td>\n",
       "      <td>ARKADIUSZGARDZIELEWSKI.PL</td>\n",
       "      <td>M</td>\n",
       "      <td>2.0</td>\n",
       "      <td>M30</td>\n",
       "      <td>...</td>\n",
       "      <td>2.983333</td>\n",
       "      <td>00:45:26</td>\n",
       "      <td>2.0</td>\n",
       "      <td>3.143333</td>\n",
       "      <td>01:03:08</td>\n",
       "      <td>2.0</td>\n",
       "      <td>3.540000</td>\n",
       "      <td>0.038000</td>\n",
       "      <td>01:06:23</td>\n",
       "      <td>3.146875</td>\n",
       "    </tr>\n",
       "    <tr>\n",
       "      <th>2</th>\n",
       "      <td>3.0</td>\n",
       "      <td>3832</td>\n",
       "      <td>KRZYSZTOF</td>\n",
       "      <td>HADAS</td>\n",
       "      <td>POZNAŃ</td>\n",
       "      <td>POL</td>\n",
       "      <td>NaN</td>\n",
       "      <td>M</td>\n",
       "      <td>3.0</td>\n",
       "      <td>M20</td>\n",
       "      <td>...</td>\n",
       "      <td>3.123333</td>\n",
       "      <td>00:47:34</td>\n",
       "      <td>3.0</td>\n",
       "      <td>3.236667</td>\n",
       "      <td>01:05:09</td>\n",
       "      <td>3.0</td>\n",
       "      <td>3.516667</td>\n",
       "      <td>0.024067</td>\n",
       "      <td>01:08:24</td>\n",
       "      <td>3.242475</td>\n",
       "    </tr>\n",
       "    <tr>\n",
       "      <th>3</th>\n",
       "      <td>4.0</td>\n",
       "      <td>416</td>\n",
       "      <td>DAMIAN</td>\n",
       "      <td>DYDUCH</td>\n",
       "      <td>KĘPNO</td>\n",
       "      <td>POL</td>\n",
       "      <td>AZS POLITECHNIKA OPOLSKA</td>\n",
       "      <td>M</td>\n",
       "      <td>4.0</td>\n",
       "      <td>M30</td>\n",
       "      <td>...</td>\n",
       "      <td>3.196667</td>\n",
       "      <td>00:48:49</td>\n",
       "      <td>5.0</td>\n",
       "      <td>3.330000</td>\n",
       "      <td>01:06:54</td>\n",
       "      <td>4.0</td>\n",
       "      <td>3.616667</td>\n",
       "      <td>0.025467</td>\n",
       "      <td>01:10:16</td>\n",
       "      <td>3.330963</td>\n",
       "    </tr>\n",
       "    <tr>\n",
       "      <th>4</th>\n",
       "      <td>5.0</td>\n",
       "      <td>8476</td>\n",
       "      <td>KAMIL</td>\n",
       "      <td>MAŃKOWSKI</td>\n",
       "      <td>MIRKÓW</td>\n",
       "      <td>POL</td>\n",
       "      <td>PARKRUN WROCŁAW</td>\n",
       "      <td>M</td>\n",
       "      <td>5.0</td>\n",
       "      <td>M20</td>\n",
       "      <td>...</td>\n",
       "      <td>3.276667</td>\n",
       "      <td>00:49:31</td>\n",
       "      <td>7.0</td>\n",
       "      <td>3.386667</td>\n",
       "      <td>01:07:27</td>\n",
       "      <td>5.0</td>\n",
       "      <td>3.586667</td>\n",
       "      <td>0.023000</td>\n",
       "      <td>01:10:27</td>\n",
       "      <td>3.339654</td>\n",
       "    </tr>\n",
       "  </tbody>\n",
       "</table>\n",
       "<p>5 rows × 27 columns</p>\n",
       "</div>"
      ],
      "text/plain": [
       "   Miejsce  Numer startowy       Imię       Nazwisko   Miasto Kraj  \\\n",
       "0      1.0            1787     TOMASZ         GRYCKO      NaN  POL   \n",
       "1      2.0               3  ARKADIUSZ  GARDZIELEWSKI  WROCŁAW  POL   \n",
       "2      3.0            3832  KRZYSZTOF          HADAS   POZNAŃ  POL   \n",
       "3      4.0             416     DAMIAN         DYDUCH    KĘPNO  POL   \n",
       "4      5.0            8476      KAMIL      MAŃKOWSKI   MIRKÓW  POL   \n",
       "\n",
       "                     Drużyna Płeć  Płeć Miejsce Kategoria wiekowa  ...  \\\n",
       "0     UKS BLIZA WŁADYSŁAWOWO    M           1.0               M30  ...   \n",
       "1  ARKADIUSZGARDZIELEWSKI.PL    M           2.0               M30  ...   \n",
       "2                        NaN    M           3.0               M20  ...   \n",
       "3   AZS POLITECHNIKA OPOLSKA    M           4.0               M30  ...   \n",
       "4            PARKRUN WROCŁAW    M           5.0               M20  ...   \n",
       "\n",
       "   10 km Tempo  15 km Czas 15 km Miejsce Open  15 km Tempo  20 km Czas  \\\n",
       "0     2.926667    00:44:47                1.0     3.106667    01:01:43   \n",
       "1     2.983333    00:45:26                2.0     3.143333    01:03:08   \n",
       "2     3.123333    00:47:34                3.0     3.236667    01:05:09   \n",
       "3     3.196667    00:48:49                5.0     3.330000    01:06:54   \n",
       "4     3.276667    00:49:31                7.0     3.386667    01:07:27   \n",
       "\n",
       "  20 km Miejsce Open  20 km Tempo  Tempo Stabilność      Czas     Tempo  \n",
       "0                1.0     3.386667          0.031400  01:04:59  3.080509  \n",
       "1                2.0     3.540000          0.038000  01:06:23  3.146875  \n",
       "2                3.0     3.516667          0.024067  01:08:24  3.242475  \n",
       "3                4.0     3.616667          0.025467  01:10:16  3.330963  \n",
       "4                5.0     3.586667          0.023000  01:10:27  3.339654  \n",
       "\n",
       "[5 rows x 27 columns]"
      ]
     },
     "execution_count": 8,
     "metadata": {},
     "output_type": "execute_result"
    }
   ],
   "source": [
    "# tworzę df na podstawie 2 plików csv\n",
    "response = s3.list_objects(Bucket=BUCKET_NAME)\n",
    "all_files = [content['Key'] for content in response['Contents']]\n",
    "\n",
    "dfs = []  # a list to store dataframes\n",
    "\n",
    "for file in all_files:\n",
    "    obj = s3.get_object(Bucket=BUCKET_NAME, Key=file)\n",
    "    df_f = pd.read_csv(obj['Body'], sep=';')  # 'Body' is a key word\n",
    "    dfs.append(df_f)\n",
    "\n",
    "df = pd.concat(dfs, ignore_index=True)\n",
    "df.head()"
   ]
  },
  {
   "cell_type": "code",
   "execution_count": 9,
   "id": "06e28128-c828-488b-b27e-6036e2e384e3",
   "metadata": {},
   "outputs": [
    {
     "name": "stdout",
     "output_type": "stream",
     "text": [
      "<class 'pandas.core.frame.DataFrame'>\n",
      "RangeIndex: 21957 entries, 0 to 21956\n",
      "Data columns (total 4 columns):\n",
      " #   Column     Non-Null Count  Dtype  \n",
      "---  ------     --------------  -----  \n",
      " 0   Płeć       21946 non-null  object \n",
      " 1   Rocznik    21472 non-null  float64\n",
      " 2   5 km Czas  18411 non-null  object \n",
      " 3   Czas       19902 non-null  object \n",
      "dtypes: float64(1), object(3)\n",
      "memory usage: 686.3+ KB\n"
     ]
    }
   ],
   "source": [
    "# pozbywam się zbędnych kolumn (część jest zbędna, przez niektóre model był \"przetrenowany\")\n",
    "df = df[[\"Płeć\", \"Rocznik\", \"5 km Czas\", \"Czas\"]]\n",
    "df.info()"
   ]
  },
  {
   "cell_type": "code",
   "execution_count": 10,
   "id": "51d2d40e-8c09-4c70-91a1-52a2a9ce98c4",
   "metadata": {},
   "outputs": [
    {
     "data": {
      "text/html": [
       "<div>\n",
       "<style scoped>\n",
       "    .dataframe tbody tr th:only-of-type {\n",
       "        vertical-align: middle;\n",
       "    }\n",
       "\n",
       "    .dataframe tbody tr th {\n",
       "        vertical-align: top;\n",
       "    }\n",
       "\n",
       "    .dataframe thead th {\n",
       "        text-align: right;\n",
       "    }\n",
       "</style>\n",
       "<table border=\"1\" class=\"dataframe\">\n",
       "  <thead>\n",
       "    <tr style=\"text-align: right;\">\n",
       "      <th></th>\n",
       "      <th>brakujące rzędy</th>\n",
       "      <th>braki wyrażone w procentach</th>\n",
       "    </tr>\n",
       "  </thead>\n",
       "  <tbody>\n",
       "    <tr>\n",
       "      <th>Płeć</th>\n",
       "      <td>11</td>\n",
       "      <td>0.050098</td>\n",
       "    </tr>\n",
       "    <tr>\n",
       "      <th>Rocznik</th>\n",
       "      <td>485</td>\n",
       "      <td>2.208863</td>\n",
       "    </tr>\n",
       "    <tr>\n",
       "      <th>5 km Czas</th>\n",
       "      <td>3546</td>\n",
       "      <td>16.149747</td>\n",
       "    </tr>\n",
       "    <tr>\n",
       "      <th>Czas</th>\n",
       "      <td>2055</td>\n",
       "      <td>9.359202</td>\n",
       "    </tr>\n",
       "  </tbody>\n",
       "</table>\n",
       "</div>"
      ],
      "text/plain": [
       "           brakujące rzędy  braki wyrażone w procentach\n",
       "Płeć                    11                     0.050098\n",
       "Rocznik                485                     2.208863\n",
       "5 km Czas             3546                    16.149747\n",
       "Czas                  2055                     9.359202"
      ]
     },
     "execution_count": 10,
     "metadata": {},
     "output_type": "execute_result"
    }
   ],
   "source": [
    "brakujące_rzędy_df = df.isnull().sum()\n",
    "\n",
    "braki_procent_df = (brakujące_rzędy_df / len(df)) * 100\n",
    "\n",
    "podsumowanie_braków_df = pd.DataFrame({\n",
    "    'brakujące rzędy': brakujące_rzędy_df,\n",
    "    'braki wyrażone w procentach': braki_procent_df\n",
    "})\n",
    "\n",
    "result = {\n",
    "    \"type\": \"dataframe\",\n",
    "    \"value\": podsumowanie_braków_df\n",
    "}\n",
    "podsumowanie_braków_df"
   ]
  },
  {
   "cell_type": "code",
   "execution_count": 11,
   "id": "f7ba4fd3-9238-4412-b7b3-9a09ddca943d",
   "metadata": {},
   "outputs": [
    {
     "name": "stdout",
     "output_type": "stream",
     "text": [
      "<class 'pandas.core.frame.DataFrame'>\n",
      "Index: 17927 entries, 0 to 19248\n",
      "Data columns (total 4 columns):\n",
      " #   Column     Non-Null Count  Dtype  \n",
      "---  ------     --------------  -----  \n",
      " 0   Płeć       17927 non-null  object \n",
      " 1   Rocznik    17927 non-null  float64\n",
      " 2   5 km Czas  17927 non-null  object \n",
      " 3   Czas       17927 non-null  object \n",
      "dtypes: float64(1), object(3)\n",
      "memory usage: 700.3+ KB\n"
     ]
    }
   ],
   "source": [
    "# usuwam wiersze z brakami\n",
    "df_clean = df.dropna()\n",
    "df_clean.info()"
   ]
  },
  {
   "cell_type": "code",
   "execution_count": 12,
   "id": "eefd8938-5803-471f-a91b-9cb61006bdbf",
   "metadata": {},
   "outputs": [
    {
     "data": {
      "text/plain": [
       "0    877\n",
       "1    888\n",
       "2    946\n",
       "3    971\n",
       "4    972\n",
       "Name: 5 km Czas, dtype: int64"
      ]
     },
     "execution_count": 12,
     "metadata": {},
     "output_type": "execute_result"
    }
   ],
   "source": [
    "# trzeba zmienić Dtype w \"5 km czas\" i \"Czas\" na int64\n",
    "def convert_time_to_seconds(time):\n",
    "    if pd.isnull(time) or time in ['DNS', 'DNF']:\n",
    "        return None\n",
    "    time = time.split(':')\n",
    "    return int(time[0]) * 3600 + int(time[1]) * 60 + int(time[2])\n",
    "df_clean['5 km Czas'] = df_clean['5 km Czas'].apply(convert_time_to_seconds)\n",
    "df_clean['5 km Czas'].head()"
   ]
  },
  {
   "cell_type": "code",
   "execution_count": 13,
   "id": "1fe9cacf-6d36-400a-bd51-9c6230972f71",
   "metadata": {},
   "outputs": [
    {
     "data": {
      "text/plain": [
       "0    3899\n",
       "1    3983\n",
       "2    4104\n",
       "3    4216\n",
       "4    4227\n",
       "Name: Czas, dtype: int64"
      ]
     },
     "execution_count": 13,
     "metadata": {},
     "output_type": "execute_result"
    }
   ],
   "source": [
    "df_clean['Czas'] = df_clean['Czas'].apply(convert_time_to_seconds)\n",
    "df_clean['Czas'].head()"
   ]
  },
  {
   "cell_type": "code",
   "execution_count": 14,
   "id": "14666804-8e5b-499e-a342-831f54213307",
   "metadata": {},
   "outputs": [
    {
     "name": "stdout",
     "output_type": "stream",
     "text": [
      "<class 'pandas.core.frame.DataFrame'>\n",
      "Index: 17927 entries, 0 to 19248\n",
      "Data columns (total 4 columns):\n",
      " #   Column     Non-Null Count  Dtype \n",
      "---  ------     --------------  ----- \n",
      " 0   Płeć       17927 non-null  object\n",
      " 1   Rocznik    17927 non-null  int64 \n",
      " 2   5 km Czas  17927 non-null  int64 \n",
      " 3   Czas       17927 non-null  int64 \n",
      "dtypes: int64(3), object(1)\n",
      "memory usage: 700.3+ KB\n"
     ]
    }
   ],
   "source": [
    "# w \"Roczniku też zmienię Dtype, choć nie wiem czy jest to konieczne\n",
    "df_clean[\"Rocznik\"] = df_clean[\"Rocznik\"].astype('int64')\n",
    "df_clean.info()"
   ]
  },
  {
   "cell_type": "code",
   "execution_count": 15,
   "id": "ef878c87-d2be-4ae2-91d1-76aaa54098ea",
   "metadata": {},
   "outputs": [
    {
     "name": "stdout",
     "output_type": "stream",
     "text": [
      "<class 'pandas.core.frame.DataFrame'>\n",
      "Index: 17446 entries, 8 to 19096\n",
      "Data columns (total 4 columns):\n",
      " #   Column     Non-Null Count  Dtype \n",
      "---  ------     --------------  ----- \n",
      " 0   Płeć       17446 non-null  object\n",
      " 1   Rocznik    17446 non-null  int64 \n",
      " 2   5 km Czas  17446 non-null  int64 \n",
      " 3   Czas       17446 non-null  int64 \n",
      "dtypes: int64(3), object(1)\n",
      "memory usage: 681.5+ KB\n"
     ]
    }
   ],
   "source": [
    "# pozbywam się wartości odstających w kluczowych kolumnach \n",
    "columns = [\"Czas\", \"5 km Czas\", \"Rocznik\"]\n",
    "\n",
    "for column in columns:\n",
    "    # Obliczam kwantyle dla określonej kolumny\n",
    "    Q1 = df_clean[column].quantile(0.25)\n",
    "    Q3 = df_clean[column].quantile(0.75)\n",
    "    IQR = Q3 - Q1  # różnica między kwartylami\n",
    "\n",
    "    # Obliczam granice dla wykrywania outlierów\n",
    "    lower_bound = Q1 - 1.5 * IQR  # inteligentne minimum\n",
    "    upper_bound = Q3 + 1.5 * IQR  # inteligentne maksimum\n",
    "\n",
    "    # Usuwam outlierów\n",
    "    df_clean = df_clean[~((df_clean[column] < lower_bound) | (df_clean[column] > upper_bound))]\n",
    "df_clean.info()"
   ]
  },
  {
   "cell_type": "code",
   "execution_count": 16,
   "id": "342277d3-2856-419e-b35c-6708ff39f710",
   "metadata": {},
   "outputs": [
    {
     "data": {
      "text/html": [
       "<style type=\"text/css\">\n",
       "#T_141d2_row9_col1 {\n",
       "  background-color: lightgreen;\n",
       "}\n",
       "</style>\n",
       "<table id=\"T_141d2\">\n",
       "  <thead>\n",
       "    <tr>\n",
       "      <th class=\"blank level0\" >&nbsp;</th>\n",
       "      <th id=\"T_141d2_level0_col0\" class=\"col_heading level0 col0\" >Description</th>\n",
       "      <th id=\"T_141d2_level0_col1\" class=\"col_heading level0 col1\" >Value</th>\n",
       "    </tr>\n",
       "  </thead>\n",
       "  <tbody>\n",
       "    <tr>\n",
       "      <th id=\"T_141d2_level0_row0\" class=\"row_heading level0 row0\" >0</th>\n",
       "      <td id=\"T_141d2_row0_col0\" class=\"data row0 col0\" >Session id</td>\n",
       "      <td id=\"T_141d2_row0_col1\" class=\"data row0 col1\" >123</td>\n",
       "    </tr>\n",
       "    <tr>\n",
       "      <th id=\"T_141d2_level0_row1\" class=\"row_heading level0 row1\" >1</th>\n",
       "      <td id=\"T_141d2_row1_col0\" class=\"data row1 col0\" >Target</td>\n",
       "      <td id=\"T_141d2_row1_col1\" class=\"data row1 col1\" >Czas</td>\n",
       "    </tr>\n",
       "    <tr>\n",
       "      <th id=\"T_141d2_level0_row2\" class=\"row_heading level0 row2\" >2</th>\n",
       "      <td id=\"T_141d2_row2_col0\" class=\"data row2 col0\" >Target type</td>\n",
       "      <td id=\"T_141d2_row2_col1\" class=\"data row2 col1\" >Regression</td>\n",
       "    </tr>\n",
       "    <tr>\n",
       "      <th id=\"T_141d2_level0_row3\" class=\"row_heading level0 row3\" >3</th>\n",
       "      <td id=\"T_141d2_row3_col0\" class=\"data row3 col0\" >Original data shape</td>\n",
       "      <td id=\"T_141d2_row3_col1\" class=\"data row3 col1\" >(17446, 4)</td>\n",
       "    </tr>\n",
       "    <tr>\n",
       "      <th id=\"T_141d2_level0_row4\" class=\"row_heading level0 row4\" >4</th>\n",
       "      <td id=\"T_141d2_row4_col0\" class=\"data row4 col0\" >Transformed data shape</td>\n",
       "      <td id=\"T_141d2_row4_col1\" class=\"data row4 col1\" >(17446, 4)</td>\n",
       "    </tr>\n",
       "    <tr>\n",
       "      <th id=\"T_141d2_level0_row5\" class=\"row_heading level0 row5\" >5</th>\n",
       "      <td id=\"T_141d2_row5_col0\" class=\"data row5 col0\" >Transformed train set shape</td>\n",
       "      <td id=\"T_141d2_row5_col1\" class=\"data row5 col1\" >(12212, 4)</td>\n",
       "    </tr>\n",
       "    <tr>\n",
       "      <th id=\"T_141d2_level0_row6\" class=\"row_heading level0 row6\" >6</th>\n",
       "      <td id=\"T_141d2_row6_col0\" class=\"data row6 col0\" >Transformed test set shape</td>\n",
       "      <td id=\"T_141d2_row6_col1\" class=\"data row6 col1\" >(5234, 4)</td>\n",
       "    </tr>\n",
       "    <tr>\n",
       "      <th id=\"T_141d2_level0_row7\" class=\"row_heading level0 row7\" >7</th>\n",
       "      <td id=\"T_141d2_row7_col0\" class=\"data row7 col0\" >Numeric features</td>\n",
       "      <td id=\"T_141d2_row7_col1\" class=\"data row7 col1\" >2</td>\n",
       "    </tr>\n",
       "    <tr>\n",
       "      <th id=\"T_141d2_level0_row8\" class=\"row_heading level0 row8\" >8</th>\n",
       "      <td id=\"T_141d2_row8_col0\" class=\"data row8 col0\" >Categorical features</td>\n",
       "      <td id=\"T_141d2_row8_col1\" class=\"data row8 col1\" >1</td>\n",
       "    </tr>\n",
       "    <tr>\n",
       "      <th id=\"T_141d2_level0_row9\" class=\"row_heading level0 row9\" >9</th>\n",
       "      <td id=\"T_141d2_row9_col0\" class=\"data row9 col0\" >Preprocess</td>\n",
       "      <td id=\"T_141d2_row9_col1\" class=\"data row9 col1\" >True</td>\n",
       "    </tr>\n",
       "    <tr>\n",
       "      <th id=\"T_141d2_level0_row10\" class=\"row_heading level0 row10\" >10</th>\n",
       "      <td id=\"T_141d2_row10_col0\" class=\"data row10 col0\" >Imputation type</td>\n",
       "      <td id=\"T_141d2_row10_col1\" class=\"data row10 col1\" >simple</td>\n",
       "    </tr>\n",
       "    <tr>\n",
       "      <th id=\"T_141d2_level0_row11\" class=\"row_heading level0 row11\" >11</th>\n",
       "      <td id=\"T_141d2_row11_col0\" class=\"data row11 col0\" >Numeric imputation</td>\n",
       "      <td id=\"T_141d2_row11_col1\" class=\"data row11 col1\" >mean</td>\n",
       "    </tr>\n",
       "    <tr>\n",
       "      <th id=\"T_141d2_level0_row12\" class=\"row_heading level0 row12\" >12</th>\n",
       "      <td id=\"T_141d2_row12_col0\" class=\"data row12 col0\" >Categorical imputation</td>\n",
       "      <td id=\"T_141d2_row12_col1\" class=\"data row12 col1\" >mode</td>\n",
       "    </tr>\n",
       "    <tr>\n",
       "      <th id=\"T_141d2_level0_row13\" class=\"row_heading level0 row13\" >13</th>\n",
       "      <td id=\"T_141d2_row13_col0\" class=\"data row13 col0\" >Maximum one-hot encoding</td>\n",
       "      <td id=\"T_141d2_row13_col1\" class=\"data row13 col1\" >25</td>\n",
       "    </tr>\n",
       "    <tr>\n",
       "      <th id=\"T_141d2_level0_row14\" class=\"row_heading level0 row14\" >14</th>\n",
       "      <td id=\"T_141d2_row14_col0\" class=\"data row14 col0\" >Encoding method</td>\n",
       "      <td id=\"T_141d2_row14_col1\" class=\"data row14 col1\" >None</td>\n",
       "    </tr>\n",
       "    <tr>\n",
       "      <th id=\"T_141d2_level0_row15\" class=\"row_heading level0 row15\" >15</th>\n",
       "      <td id=\"T_141d2_row15_col0\" class=\"data row15 col0\" >Fold Generator</td>\n",
       "      <td id=\"T_141d2_row15_col1\" class=\"data row15 col1\" >KFold</td>\n",
       "    </tr>\n",
       "    <tr>\n",
       "      <th id=\"T_141d2_level0_row16\" class=\"row_heading level0 row16\" >16</th>\n",
       "      <td id=\"T_141d2_row16_col0\" class=\"data row16 col0\" >Fold Number</td>\n",
       "      <td id=\"T_141d2_row16_col1\" class=\"data row16 col1\" >10</td>\n",
       "    </tr>\n",
       "    <tr>\n",
       "      <th id=\"T_141d2_level0_row17\" class=\"row_heading level0 row17\" >17</th>\n",
       "      <td id=\"T_141d2_row17_col0\" class=\"data row17 col0\" >CPU Jobs</td>\n",
       "      <td id=\"T_141d2_row17_col1\" class=\"data row17 col1\" >-1</td>\n",
       "    </tr>\n",
       "    <tr>\n",
       "      <th id=\"T_141d2_level0_row18\" class=\"row_heading level0 row18\" >18</th>\n",
       "      <td id=\"T_141d2_row18_col0\" class=\"data row18 col0\" >Use GPU</td>\n",
       "      <td id=\"T_141d2_row18_col1\" class=\"data row18 col1\" >False</td>\n",
       "    </tr>\n",
       "    <tr>\n",
       "      <th id=\"T_141d2_level0_row19\" class=\"row_heading level0 row19\" >19</th>\n",
       "      <td id=\"T_141d2_row19_col0\" class=\"data row19 col0\" >Log Experiment</td>\n",
       "      <td id=\"T_141d2_row19_col1\" class=\"data row19 col1\" >False</td>\n",
       "    </tr>\n",
       "    <tr>\n",
       "      <th id=\"T_141d2_level0_row20\" class=\"row_heading level0 row20\" >20</th>\n",
       "      <td id=\"T_141d2_row20_col0\" class=\"data row20 col0\" >Experiment Name</td>\n",
       "      <td id=\"T_141d2_row20_col1\" class=\"data row20 col1\" >reg-default-name</td>\n",
       "    </tr>\n",
       "    <tr>\n",
       "      <th id=\"T_141d2_level0_row21\" class=\"row_heading level0 row21\" >21</th>\n",
       "      <td id=\"T_141d2_row21_col0\" class=\"data row21 col0\" >USI</td>\n",
       "      <td id=\"T_141d2_row21_col1\" class=\"data row21 col1\" >5850</td>\n",
       "    </tr>\n",
       "  </tbody>\n",
       "</table>\n"
      ],
      "text/plain": [
       "<pandas.io.formats.style.Styler at 0x2a87d31b050>"
      ]
     },
     "metadata": {},
     "output_type": "display_data"
    }
   ],
   "source": [
    "# proszę Pacaret o pomoc w obliczeniach :)\n",
    "exp = setup(data=df_clean, target='Czas', session_id=123)"
   ]
  },
  {
   "cell_type": "code",
   "execution_count": 18,
   "id": "92da629c-1599-4100-923e-394694989c3f",
   "metadata": {},
   "outputs": [
    {
     "data": {
      "text/html": [],
      "text/plain": [
       "<IPython.core.display.HTML object>"
      ]
     },
     "metadata": {},
     "output_type": "display_data"
    },
    {
     "data": {
      "text/html": [
       "<style type=\"text/css\">\n",
       "#T_eaef2 th {\n",
       "  text-align: left;\n",
       "}\n",
       "#T_eaef2_row0_col0, #T_eaef2_row0_col1, #T_eaef2_row0_col2, #T_eaef2_row0_col3, #T_eaef2_row0_col5, #T_eaef2_row0_col6, #T_eaef2_row1_col0, #T_eaef2_row1_col1, #T_eaef2_row1_col2, #T_eaef2_row1_col3, #T_eaef2_row1_col6, #T_eaef2_row2_col0, #T_eaef2_row2_col1, #T_eaef2_row2_col2, #T_eaef2_row2_col3, #T_eaef2_row2_col5, #T_eaef2_row2_col6, #T_eaef2_row3_col0, #T_eaef2_row3_col1, #T_eaef2_row3_col2, #T_eaef2_row3_col3, #T_eaef2_row3_col6, #T_eaef2_row4_col0, #T_eaef2_row4_col1, #T_eaef2_row4_col2, #T_eaef2_row4_col3, #T_eaef2_row4_col5, #T_eaef2_row4_col6, #T_eaef2_row5_col0, #T_eaef2_row5_col1, #T_eaef2_row5_col2, #T_eaef2_row5_col3, #T_eaef2_row5_col6, #T_eaef2_row6_col0, #T_eaef2_row6_col1, #T_eaef2_row6_col6, #T_eaef2_row7_col0, #T_eaef2_row7_col1, #T_eaef2_row7_col2, #T_eaef2_row7_col3, #T_eaef2_row7_col4, #T_eaef2_row7_col5, #T_eaef2_row7_col6, #T_eaef2_row8_col0, #T_eaef2_row8_col1, #T_eaef2_row8_col2, #T_eaef2_row8_col3, #T_eaef2_row8_col4, #T_eaef2_row8_col5, #T_eaef2_row8_col6, #T_eaef2_row9_col0, #T_eaef2_row9_col2, #T_eaef2_row9_col3, #T_eaef2_row9_col4, #T_eaef2_row9_col5, #T_eaef2_row10_col0, #T_eaef2_row10_col1, #T_eaef2_row10_col2, #T_eaef2_row10_col3, #T_eaef2_row10_col4, #T_eaef2_row10_col5, #T_eaef2_row10_col6, #T_eaef2_row11_col0, #T_eaef2_row11_col1, #T_eaef2_row11_col2, #T_eaef2_row11_col3, #T_eaef2_row11_col4, #T_eaef2_row11_col5, #T_eaef2_row11_col6, #T_eaef2_row12_col0, #T_eaef2_row12_col1, #T_eaef2_row12_col2, #T_eaef2_row12_col3, #T_eaef2_row12_col4, #T_eaef2_row12_col5, #T_eaef2_row12_col6, #T_eaef2_row13_col0, #T_eaef2_row13_col1, #T_eaef2_row13_col2, #T_eaef2_row13_col3, #T_eaef2_row13_col4, #T_eaef2_row13_col5, #T_eaef2_row13_col6, #T_eaef2_row14_col0, #T_eaef2_row14_col1, #T_eaef2_row14_col2, #T_eaef2_row14_col3, #T_eaef2_row14_col4, #T_eaef2_row14_col5, #T_eaef2_row14_col6, #T_eaef2_row15_col0, #T_eaef2_row15_col1, #T_eaef2_row15_col2, #T_eaef2_row15_col3, #T_eaef2_row15_col4, #T_eaef2_row15_col5, #T_eaef2_row15_col6, #T_eaef2_row16_col0, #T_eaef2_row16_col1, #T_eaef2_row16_col2, #T_eaef2_row16_col3, #T_eaef2_row16_col4, #T_eaef2_row16_col5, #T_eaef2_row16_col6, #T_eaef2_row17_col0, #T_eaef2_row17_col1, #T_eaef2_row17_col2, #T_eaef2_row17_col3, #T_eaef2_row17_col4, #T_eaef2_row17_col5, #T_eaef2_row17_col6 {\n",
       "  text-align: left;\n",
       "}\n",
       "#T_eaef2_row0_col4, #T_eaef2_row1_col4, #T_eaef2_row1_col5, #T_eaef2_row2_col4, #T_eaef2_row3_col4, #T_eaef2_row3_col5, #T_eaef2_row4_col4, #T_eaef2_row5_col4, #T_eaef2_row5_col5, #T_eaef2_row6_col2, #T_eaef2_row6_col3, #T_eaef2_row6_col4, #T_eaef2_row6_col5, #T_eaef2_row9_col1, #T_eaef2_row9_col6 {\n",
       "  text-align: left;\n",
       "  background-color: yellow;\n",
       "}\n",
       "#T_eaef2_row0_col7, #T_eaef2_row1_col7, #T_eaef2_row2_col7, #T_eaef2_row3_col7, #T_eaef2_row4_col7, #T_eaef2_row6_col7, #T_eaef2_row7_col7, #T_eaef2_row8_col7, #T_eaef2_row9_col7, #T_eaef2_row10_col7, #T_eaef2_row11_col7, #T_eaef2_row12_col7, #T_eaef2_row13_col7, #T_eaef2_row14_col7, #T_eaef2_row15_col7, #T_eaef2_row16_col7 {\n",
       "  text-align: left;\n",
       "  background-color: lightgrey;\n",
       "}\n",
       "#T_eaef2_row5_col7, #T_eaef2_row17_col7 {\n",
       "  text-align: left;\n",
       "  background-color: yellow;\n",
       "  background-color: lightgrey;\n",
       "}\n",
       "</style>\n",
       "<table id=\"T_eaef2\">\n",
       "  <thead>\n",
       "    <tr>\n",
       "      <th class=\"blank level0\" >&nbsp;</th>\n",
       "      <th id=\"T_eaef2_level0_col0\" class=\"col_heading level0 col0\" >Model</th>\n",
       "      <th id=\"T_eaef2_level0_col1\" class=\"col_heading level0 col1\" >MAE</th>\n",
       "      <th id=\"T_eaef2_level0_col2\" class=\"col_heading level0 col2\" >MSE</th>\n",
       "      <th id=\"T_eaef2_level0_col3\" class=\"col_heading level0 col3\" >RMSE</th>\n",
       "      <th id=\"T_eaef2_level0_col4\" class=\"col_heading level0 col4\" >R2</th>\n",
       "      <th id=\"T_eaef2_level0_col5\" class=\"col_heading level0 col5\" >RMSLE</th>\n",
       "      <th id=\"T_eaef2_level0_col6\" class=\"col_heading level0 col6\" >MAPE</th>\n",
       "      <th id=\"T_eaef2_level0_col7\" class=\"col_heading level0 col7\" >TT (Sec)</th>\n",
       "    </tr>\n",
       "  </thead>\n",
       "  <tbody>\n",
       "    <tr>\n",
       "      <th id=\"T_eaef2_level0_row0\" class=\"row_heading level0 row0\" >lr</th>\n",
       "      <td id=\"T_eaef2_row0_col0\" class=\"data row0 col0\" >Linear Regression</td>\n",
       "      <td id=\"T_eaef2_row0_col1\" class=\"data row0 col1\" >293.2161</td>\n",
       "      <td id=\"T_eaef2_row0_col2\" class=\"data row0 col2\" >159076.3796</td>\n",
       "      <td id=\"T_eaef2_row0_col3\" class=\"data row0 col3\" >398.6564</td>\n",
       "      <td id=\"T_eaef2_row0_col4\" class=\"data row0 col4\" >0.8768</td>\n",
       "      <td id=\"T_eaef2_row0_col5\" class=\"data row0 col5\" >0.0513</td>\n",
       "      <td id=\"T_eaef2_row0_col6\" class=\"data row0 col6\" >0.0387</td>\n",
       "      <td id=\"T_eaef2_row0_col7\" class=\"data row0 col7\" >0.0090</td>\n",
       "    </tr>\n",
       "    <tr>\n",
       "      <th id=\"T_eaef2_level0_row1\" class=\"row_heading level0 row1\" >lasso</th>\n",
       "      <td id=\"T_eaef2_row1_col0\" class=\"data row1 col0\" >Lasso Regression</td>\n",
       "      <td id=\"T_eaef2_row1_col1\" class=\"data row1 col1\" >293.1696</td>\n",
       "      <td id=\"T_eaef2_row1_col2\" class=\"data row1 col2\" >159053.8396</td>\n",
       "      <td id=\"T_eaef2_row1_col3\" class=\"data row1 col3\" >398.6285</td>\n",
       "      <td id=\"T_eaef2_row1_col4\" class=\"data row1 col4\" >0.8768</td>\n",
       "      <td id=\"T_eaef2_row1_col5\" class=\"data row1 col5\" >0.0512</td>\n",
       "      <td id=\"T_eaef2_row1_col6\" class=\"data row1 col6\" >0.0387</td>\n",
       "      <td id=\"T_eaef2_row1_col7\" class=\"data row1 col7\" >0.0090</td>\n",
       "    </tr>\n",
       "    <tr>\n",
       "      <th id=\"T_eaef2_level0_row2\" class=\"row_heading level0 row2\" >ridge</th>\n",
       "      <td id=\"T_eaef2_row2_col0\" class=\"data row2 col0\" >Ridge Regression</td>\n",
       "      <td id=\"T_eaef2_row2_col1\" class=\"data row2 col1\" >293.2160</td>\n",
       "      <td id=\"T_eaef2_row2_col2\" class=\"data row2 col2\" >159076.3587</td>\n",
       "      <td id=\"T_eaef2_row2_col3\" class=\"data row2 col3\" >398.6564</td>\n",
       "      <td id=\"T_eaef2_row2_col4\" class=\"data row2 col4\" >0.8768</td>\n",
       "      <td id=\"T_eaef2_row2_col5\" class=\"data row2 col5\" >0.0513</td>\n",
       "      <td id=\"T_eaef2_row2_col6\" class=\"data row2 col6\" >0.0387</td>\n",
       "      <td id=\"T_eaef2_row2_col7\" class=\"data row2 col7\" >0.0090</td>\n",
       "    </tr>\n",
       "    <tr>\n",
       "      <th id=\"T_eaef2_level0_row3\" class=\"row_heading level0 row3\" >en</th>\n",
       "      <td id=\"T_eaef2_row3_col0\" class=\"data row3 col0\" >Elastic Net</td>\n",
       "      <td id=\"T_eaef2_row3_col1\" class=\"data row3 col1\" >293.1613</td>\n",
       "      <td id=\"T_eaef2_row3_col2\" class=\"data row3 col2\" >159046.6985</td>\n",
       "      <td id=\"T_eaef2_row3_col3\" class=\"data row3 col3\" >398.6194</td>\n",
       "      <td id=\"T_eaef2_row3_col4\" class=\"data row3 col4\" >0.8768</td>\n",
       "      <td id=\"T_eaef2_row3_col5\" class=\"data row3 col5\" >0.0512</td>\n",
       "      <td id=\"T_eaef2_row3_col6\" class=\"data row3 col6\" >0.0387</td>\n",
       "      <td id=\"T_eaef2_row3_col7\" class=\"data row3 col7\" >0.0090</td>\n",
       "    </tr>\n",
       "    <tr>\n",
       "      <th id=\"T_eaef2_level0_row4\" class=\"row_heading level0 row4\" >lar</th>\n",
       "      <td id=\"T_eaef2_row4_col0\" class=\"data row4 col0\" >Least Angle Regression</td>\n",
       "      <td id=\"T_eaef2_row4_col1\" class=\"data row4 col1\" >293.2161</td>\n",
       "      <td id=\"T_eaef2_row4_col2\" class=\"data row4 col2\" >159076.3796</td>\n",
       "      <td id=\"T_eaef2_row4_col3\" class=\"data row4 col3\" >398.6564</td>\n",
       "      <td id=\"T_eaef2_row4_col4\" class=\"data row4 col4\" >0.8768</td>\n",
       "      <td id=\"T_eaef2_row4_col5\" class=\"data row4 col5\" >0.0513</td>\n",
       "      <td id=\"T_eaef2_row4_col6\" class=\"data row4 col6\" >0.0387</td>\n",
       "      <td id=\"T_eaef2_row4_col7\" class=\"data row4 col7\" >0.0090</td>\n",
       "    </tr>\n",
       "    <tr>\n",
       "      <th id=\"T_eaef2_level0_row5\" class=\"row_heading level0 row5\" >llar</th>\n",
       "      <td id=\"T_eaef2_row5_col0\" class=\"data row5 col0\" >Lasso Least Angle Regression</td>\n",
       "      <td id=\"T_eaef2_row5_col1\" class=\"data row5 col1\" >293.1696</td>\n",
       "      <td id=\"T_eaef2_row5_col2\" class=\"data row5 col2\" >159053.8397</td>\n",
       "      <td id=\"T_eaef2_row5_col3\" class=\"data row5 col3\" >398.6285</td>\n",
       "      <td id=\"T_eaef2_row5_col4\" class=\"data row5 col4\" >0.8768</td>\n",
       "      <td id=\"T_eaef2_row5_col5\" class=\"data row5 col5\" >0.0512</td>\n",
       "      <td id=\"T_eaef2_row5_col6\" class=\"data row5 col6\" >0.0387</td>\n",
       "      <td id=\"T_eaef2_row5_col7\" class=\"data row5 col7\" >0.0080</td>\n",
       "    </tr>\n",
       "    <tr>\n",
       "      <th id=\"T_eaef2_level0_row6\" class=\"row_heading level0 row6\" >br</th>\n",
       "      <td id=\"T_eaef2_row6_col0\" class=\"data row6 col0\" >Bayesian Ridge</td>\n",
       "      <td id=\"T_eaef2_row6_col1\" class=\"data row6 col1\" >293.1586</td>\n",
       "      <td id=\"T_eaef2_row6_col2\" class=\"data row6 col2\" >159044.0374</td>\n",
       "      <td id=\"T_eaef2_row6_col3\" class=\"data row6 col3\" >398.6161</td>\n",
       "      <td id=\"T_eaef2_row6_col4\" class=\"data row6 col4\" >0.8768</td>\n",
       "      <td id=\"T_eaef2_row6_col5\" class=\"data row6 col5\" >0.0512</td>\n",
       "      <td id=\"T_eaef2_row6_col6\" class=\"data row6 col6\" >0.0387</td>\n",
       "      <td id=\"T_eaef2_row6_col7\" class=\"data row6 col7\" >0.0090</td>\n",
       "    </tr>\n",
       "    <tr>\n",
       "      <th id=\"T_eaef2_level0_row7\" class=\"row_heading level0 row7\" >omp</th>\n",
       "      <td id=\"T_eaef2_row7_col0\" class=\"data row7 col0\" >Orthogonal Matching Pursuit</td>\n",
       "      <td id=\"T_eaef2_row7_col1\" class=\"data row7 col1\" >293.3334</td>\n",
       "      <td id=\"T_eaef2_row7_col2\" class=\"data row7 col2\" >159167.4702</td>\n",
       "      <td id=\"T_eaef2_row7_col3\" class=\"data row7 col3\" >398.7703</td>\n",
       "      <td id=\"T_eaef2_row7_col4\" class=\"data row7 col4\" >0.8767</td>\n",
       "      <td id=\"T_eaef2_row7_col5\" class=\"data row7 col5\" >0.0513</td>\n",
       "      <td id=\"T_eaef2_row7_col6\" class=\"data row7 col6\" >0.0387</td>\n",
       "      <td id=\"T_eaef2_row7_col7\" class=\"data row7 col7\" >0.0090</td>\n",
       "    </tr>\n",
       "    <tr>\n",
       "      <th id=\"T_eaef2_level0_row8\" class=\"row_heading level0 row8\" >gbr</th>\n",
       "      <td id=\"T_eaef2_row8_col0\" class=\"data row8 col0\" >Gradient Boosting Regressor</td>\n",
       "      <td id=\"T_eaef2_row8_col1\" class=\"data row8 col1\" >293.3958</td>\n",
       "      <td id=\"T_eaef2_row8_col2\" class=\"data row8 col2\" >159691.8814</td>\n",
       "      <td id=\"T_eaef2_row8_col3\" class=\"data row8 col3\" >399.4301</td>\n",
       "      <td id=\"T_eaef2_row8_col4\" class=\"data row8 col4\" >0.8763</td>\n",
       "      <td id=\"T_eaef2_row8_col5\" class=\"data row8 col5\" >0.0514</td>\n",
       "      <td id=\"T_eaef2_row8_col6\" class=\"data row8 col6\" >0.0387</td>\n",
       "      <td id=\"T_eaef2_row8_col7\" class=\"data row8 col7\" >0.0530</td>\n",
       "    </tr>\n",
       "    <tr>\n",
       "      <th id=\"T_eaef2_level0_row9\" class=\"row_heading level0 row9\" >huber</th>\n",
       "      <td id=\"T_eaef2_row9_col0\" class=\"data row9 col0\" >Huber Regressor</td>\n",
       "      <td id=\"T_eaef2_row9_col1\" class=\"data row9 col1\" >289.2759</td>\n",
       "      <td id=\"T_eaef2_row9_col2\" class=\"data row9 col2\" >161363.5818</td>\n",
       "      <td id=\"T_eaef2_row9_col3\" class=\"data row9 col3\" >401.5291</td>\n",
       "      <td id=\"T_eaef2_row9_col4\" class=\"data row9 col4\" >0.8750</td>\n",
       "      <td id=\"T_eaef2_row9_col5\" class=\"data row9 col5\" >0.0515</td>\n",
       "      <td id=\"T_eaef2_row9_col6\" class=\"data row9 col6\" >0.0379</td>\n",
       "      <td id=\"T_eaef2_row9_col7\" class=\"data row9 col7\" >0.0120</td>\n",
       "    </tr>\n",
       "    <tr>\n",
       "      <th id=\"T_eaef2_level0_row10\" class=\"row_heading level0 row10\" >lightgbm</th>\n",
       "      <td id=\"T_eaef2_row10_col0\" class=\"data row10 col0\" >Light Gradient Boosting Machine</td>\n",
       "      <td id=\"T_eaef2_row10_col1\" class=\"data row10 col1\" >295.3943</td>\n",
       "      <td id=\"T_eaef2_row10_col2\" class=\"data row10 col2\" >161979.8608</td>\n",
       "      <td id=\"T_eaef2_row10_col3\" class=\"data row10 col3\" >402.2781</td>\n",
       "      <td id=\"T_eaef2_row10_col4\" class=\"data row10 col4\" >0.8745</td>\n",
       "      <td id=\"T_eaef2_row10_col5\" class=\"data row10 col5\" >0.0517</td>\n",
       "      <td id=\"T_eaef2_row10_col6\" class=\"data row10 col6\" >0.0390</td>\n",
       "      <td id=\"T_eaef2_row10_col7\" class=\"data row10 col7\" >0.0770</td>\n",
       "    </tr>\n",
       "    <tr>\n",
       "      <th id=\"T_eaef2_level0_row11\" class=\"row_heading level0 row11\" >knn</th>\n",
       "      <td id=\"T_eaef2_row11_col0\" class=\"data row11 col0\" >K Neighbors Regressor</td>\n",
       "      <td id=\"T_eaef2_row11_col1\" class=\"data row11 col1\" >321.7806</td>\n",
       "      <td id=\"T_eaef2_row11_col2\" class=\"data row11 col2\" >190324.1531</td>\n",
       "      <td id=\"T_eaef2_row11_col3\" class=\"data row11 col3\" >436.0517</td>\n",
       "      <td id=\"T_eaef2_row11_col4\" class=\"data row11 col4\" >0.8526</td>\n",
       "      <td id=\"T_eaef2_row11_col5\" class=\"data row11 col5\" >0.0563</td>\n",
       "      <td id=\"T_eaef2_row11_col6\" class=\"data row11 col6\" >0.0426</td>\n",
       "      <td id=\"T_eaef2_row11_col7\" class=\"data row11 col7\" >0.0100</td>\n",
       "    </tr>\n",
       "    <tr>\n",
       "      <th id=\"T_eaef2_level0_row12\" class=\"row_heading level0 row12\" >rf</th>\n",
       "      <td id=\"T_eaef2_row12_col0\" class=\"data row12 col0\" >Random Forest Regressor</td>\n",
       "      <td id=\"T_eaef2_row12_col1\" class=\"data row12 col1\" >329.3147</td>\n",
       "      <td id=\"T_eaef2_row12_col2\" class=\"data row12 col2\" >199945.7186</td>\n",
       "      <td id=\"T_eaef2_row12_col3\" class=\"data row12 col3\" >446.9158</td>\n",
       "      <td id=\"T_eaef2_row12_col4\" class=\"data row12 col4\" >0.8451</td>\n",
       "      <td id=\"T_eaef2_row12_col5\" class=\"data row12 col5\" >0.0577</td>\n",
       "      <td id=\"T_eaef2_row12_col6\" class=\"data row12 col6\" >0.0436</td>\n",
       "      <td id=\"T_eaef2_row12_col7\" class=\"data row12 col7\" >0.1500</td>\n",
       "    </tr>\n",
       "    <tr>\n",
       "      <th id=\"T_eaef2_level0_row13\" class=\"row_heading level0 row13\" >et</th>\n",
       "      <td id=\"T_eaef2_row13_col0\" class=\"data row13 col0\" >Extra Trees Regressor</td>\n",
       "      <td id=\"T_eaef2_row13_col1\" class=\"data row13 col1\" >350.4197</td>\n",
       "      <td id=\"T_eaef2_row13_col2\" class=\"data row13 col2\" >228315.9272</td>\n",
       "      <td id=\"T_eaef2_row13_col3\" class=\"data row13 col3\" >477.5713</td>\n",
       "      <td id=\"T_eaef2_row13_col4\" class=\"data row13 col4\" >0.8232</td>\n",
       "      <td id=\"T_eaef2_row13_col5\" class=\"data row13 col5\" >0.0617</td>\n",
       "      <td id=\"T_eaef2_row13_col6\" class=\"data row13 col6\" >0.0465</td>\n",
       "      <td id=\"T_eaef2_row13_col7\" class=\"data row13 col7\" >0.1180</td>\n",
       "    </tr>\n",
       "    <tr>\n",
       "      <th id=\"T_eaef2_level0_row14\" class=\"row_heading level0 row14\" >par</th>\n",
       "      <td id=\"T_eaef2_row14_col0\" class=\"data row14 col0\" >Passive Aggressive Regressor</td>\n",
       "      <td id=\"T_eaef2_row14_col1\" class=\"data row14 col1\" >364.7353</td>\n",
       "      <td id=\"T_eaef2_row14_col2\" class=\"data row14 col2\" >242265.3943</td>\n",
       "      <td id=\"T_eaef2_row14_col3\" class=\"data row14 col3\" >489.8777</td>\n",
       "      <td id=\"T_eaef2_row14_col4\" class=\"data row14 col4\" >0.8116</td>\n",
       "      <td id=\"T_eaef2_row14_col5\" class=\"data row14 col5\" >0.0640</td>\n",
       "      <td id=\"T_eaef2_row14_col6\" class=\"data row14 col6\" >0.0481</td>\n",
       "      <td id=\"T_eaef2_row14_col7\" class=\"data row14 col7\" >0.0090</td>\n",
       "    </tr>\n",
       "    <tr>\n",
       "      <th id=\"T_eaef2_level0_row15\" class=\"row_heading level0 row15\" >ada</th>\n",
       "      <td id=\"T_eaef2_row15_col0\" class=\"data row15 col0\" >AdaBoost Regressor</td>\n",
       "      <td id=\"T_eaef2_row15_col1\" class=\"data row15 col1\" >429.5771</td>\n",
       "      <td id=\"T_eaef2_row15_col2\" class=\"data row15 col2\" >263826.6259</td>\n",
       "      <td id=\"T_eaef2_row15_col3\" class=\"data row15 col3\" >513.3676</td>\n",
       "      <td id=\"T_eaef2_row15_col4\" class=\"data row15 col4\" >0.7958</td>\n",
       "      <td id=\"T_eaef2_row15_col5\" class=\"data row15 col5\" >0.0702</td>\n",
       "      <td id=\"T_eaef2_row15_col6\" class=\"data row15 col6\" >0.0604</td>\n",
       "      <td id=\"T_eaef2_row15_col7\" class=\"data row15 col7\" >0.0350</td>\n",
       "    </tr>\n",
       "    <tr>\n",
       "      <th id=\"T_eaef2_level0_row16\" class=\"row_heading level0 row16\" >dt</th>\n",
       "      <td id=\"T_eaef2_row16_col0\" class=\"data row16 col0\" >Decision Tree Regressor</td>\n",
       "      <td id=\"T_eaef2_row16_col1\" class=\"data row16 col1\" >415.3172</td>\n",
       "      <td id=\"T_eaef2_row16_col2\" class=\"data row16 col2\" >321435.3070</td>\n",
       "      <td id=\"T_eaef2_row16_col3\" class=\"data row16 col3\" >566.7167</td>\n",
       "      <td id=\"T_eaef2_row16_col4\" class=\"data row16 col4\" >0.7511</td>\n",
       "      <td id=\"T_eaef2_row16_col5\" class=\"data row16 col5\" >0.0728</td>\n",
       "      <td id=\"T_eaef2_row16_col6\" class=\"data row16 col6\" >0.0550</td>\n",
       "      <td id=\"T_eaef2_row16_col7\" class=\"data row16 col7\" >0.0110</td>\n",
       "    </tr>\n",
       "    <tr>\n",
       "      <th id=\"T_eaef2_level0_row17\" class=\"row_heading level0 row17\" >dummy</th>\n",
       "      <td id=\"T_eaef2_row17_col0\" class=\"data row17 col0\" >Dummy Regressor</td>\n",
       "      <td id=\"T_eaef2_row17_col1\" class=\"data row17 col1\" >915.1480</td>\n",
       "      <td id=\"T_eaef2_row17_col2\" class=\"data row17 col2\" >1293786.7889</td>\n",
       "      <td id=\"T_eaef2_row17_col3\" class=\"data row17 col3\" >1137.2791</td>\n",
       "      <td id=\"T_eaef2_row17_col4\" class=\"data row17 col4\" >-0.0015</td>\n",
       "      <td id=\"T_eaef2_row17_col5\" class=\"data row17 col5\" >0.1557</td>\n",
       "      <td id=\"T_eaef2_row17_col6\" class=\"data row17 col6\" >0.1280</td>\n",
       "      <td id=\"T_eaef2_row17_col7\" class=\"data row17 col7\" >0.0080</td>\n",
       "    </tr>\n",
       "  </tbody>\n",
       "</table>\n"
      ],
      "text/plain": [
       "<pandas.io.formats.style.Styler at 0x2a87e6e7990>"
      ]
     },
     "metadata": {},
     "output_type": "display_data"
    },
    {
     "data": {
      "application/vnd.jupyter.widget-view+json": {
       "model_id": "0bfe8c4b4fe84371a8cedca557132ed8",
       "version_major": 2,
       "version_minor": 0
      },
      "text/plain": [
       "Processing:   0%|          | 0/77 [00:00<?, ?it/s]"
      ]
     },
     "metadata": {},
     "output_type": "display_data"
    },
    {
     "name": "stdout",
     "output_type": "stream",
     "text": [
      "Najlepszy model: LinearRegression(n_jobs=-1)\n"
     ]
    }
   ],
   "source": [
    "best_model = exp.compare_models(sort=\"R2\")\n",
    "print(\"Najlepszy model:\", best_model)"
   ]
  },
  {
   "cell_type": "code",
   "execution_count": 19,
   "id": "4b229934-a88f-4740-8b37-e7ffcd88097d",
   "metadata": {},
   "outputs": [
    {
     "data": {
      "text/html": [],
      "text/plain": [
       "<IPython.core.display.HTML object>"
      ]
     },
     "metadata": {},
     "output_type": "display_data"
    },
    {
     "data": {
      "image/png": "[encoded data removed]",
      "text/plain": [
       "<Figure size 800x500 with 1 Axes>"
      ]
     },
     "metadata": {},
     "output_type": "display_data"
    }
   ],
   "source": [
    "plot_model(best_model, plot='feature')"
   ]
  },
  {
   "cell_type": "code",
   "execution_count": 20,
   "id": "b5b08dc7-6152-4bdc-86d0-dcaf9caa6d83",
   "metadata": {},
   "outputs": [
    {
     "data": {
      "text/html": [],
      "text/plain": [
       "<IPython.core.display.HTML object>"
      ]
     },
     "metadata": {},
     "output_type": "display_data"
    },
    {
     "data": {
      "image/png": "[encoded data removed]",
      "text/plain": [
       "<Figure size 800x550 with 1 Axes>"
      ]
     },
     "metadata": {},
     "output_type": "display_data"
    }
   ],
   "source": [
    "exp.plot_model(best_model, plot='error')"
   ]
  },
  {
   "cell_type": "code",
   "execution_count": 21,
   "id": "c104ad62-f4b9-4f30-81d6-6b12759226a6",
   "metadata": {},
   "outputs": [
    {
     "name": "stdout",
     "output_type": "stream",
     "text": [
      "Transformation Pipeline and Model Successfully Saved\n"
     ]
    },
    {
     "data": {
      "text/plain": [
       "(Pipeline(memory=Memory(location=None),\n",
       "          steps=[('numerical_imputer',\n",
       "                  TransformerWrapper(include=['Rocznik', '5 km Czas'],\n",
       "                                     transformer=SimpleImputer())),\n",
       "                 ('categorical_imputer',\n",
       "                  TransformerWrapper(include=['Płeć'],\n",
       "                                     transformer=SimpleImputer(strategy='most_frequent'))),\n",
       "                 ('ordinal_encoding',\n",
       "                  TransformerWrapper(include=['Płeć'],\n",
       "                                     transformer=OrdinalEncoder(cols=['Płeć'],\n",
       "                                                                handle_missing='return_nan',\n",
       "                                                                mapping=[{'col': 'Płeć',\n",
       "                                                                          'data_type': dtype('O'),\n",
       "                                                                          'mapping': K      0\n",
       " M      1\n",
       " NaN   -1\n",
       " dtype: int64}]))),\n",
       "                 ('clean_column_names',\n",
       "                  TransformerWrapper(transformer=CleanColumnNames())),\n",
       "                 ('trained_model', LinearRegression(n_jobs=-1))]),\n",
       " 'halfmarathon_model.pkl')"
      ]
     },
     "execution_count": 21,
     "metadata": {},
     "output_type": "execute_result"
    }
   ],
   "source": [
    "# zapisuję model u siebie na dysku\n",
    "save_model(best_model, 'halfmarathon_model')"
   ]
  },
  {
   "cell_type": "code",
   "execution_count": 22,
   "id": "9f3b0601-58f4-448c-848e-ba7b3ee6ff5f",
   "metadata": {},
   "outputs": [],
   "source": [
    "# wrzucam model do Cloud Storage\n",
    "s3.upload_file('halfmarathon_model.pkl', BUCKET_NAME, 'halfmarathon_model.pkl')"
   ]
  },
  {
   "cell_type": "code",
   "execution_count": null,
   "id": "7e296dba-5f41-4770-a698-ae7e59950fdd",
   "metadata": {},
   "outputs": [],
   "source": []
  }
 ],
 "metadata": {
  "kernelspec": {
   "display_name": "Python 3 (ipykernel)",
   "language": "python",
   "name": "python3"
  },
  "language_info": {
   "codemirror_mode": {
    "name": "ipython",
    "version": 3
   },
   "file_extension": ".py",
   "mimetype": "text/x-python",
   "name": "python",
   "nbconvert_exporter": "python",
   "pygments_lexer": "ipython3",
   "version": "3.11.9"
  }
 },
 "nbformat": 4,
 "nbformat_minor": 5
}
